{
 "cells": [
  {
   "cell_type": "code",
   "execution_count": 3,
   "metadata": {},
   "outputs": [
    {
     "name": "stderr",
     "output_type": "stream",
     "text": [
      "[nltk_data] Downloading package averaged_perceptron_tagger to\n",
      "[nltk_data]     C:\\Users\\WalterECalcagnoLucar\\AppData\\Roaming\\nltk_dat\n",
      "[nltk_data]     a...\n",
      "[nltk_data]   Package averaged_perceptron_tagger is already up-to-\n",
      "[nltk_data]       date!\n",
      "[nltk_data] Downloading package punkt to\n",
      "[nltk_data]     C:\\Users\\WalterECalcagnoLucar\\AppData\\Roaming\\nltk_dat\n",
      "[nltk_data]     a...\n",
      "[nltk_data]   Unzipping tokenizers\\punkt.zip.\n"
     ]
    },
    {
     "data": {
      "text/plain": [
       "True"
      ]
     },
     "execution_count": 3,
     "metadata": {},
     "output_type": "execute_result"
    }
   ],
   "source": [
    "import nltk\n",
    "from nltk.stem import WordNetLemmatizer\n",
    "nltk.download('averaged_perceptron_tagger')\n",
    "from nltk.corpus import wordnet\n",
    "\n",
    "nltk.download('punkt')"
   ]
  },
  {
   "cell_type": "code",
   "execution_count": 5,
   "metadata": {},
   "outputs": [],
   "source": [
    "# importamos los paquetes y funciones\n",
    "import pandas as pd\n",
    "from sklearn.feature_extraction.text import CountVectorizer\n",
    "\n",
    "# creamos una función para calcular la frecuencia de palabras\n",
    "def obtener_frecuencia(corpus, n = None):\n",
    "    vec = CountVectorizer().fit(corpus)\n",
    "    bag_of_words = vec.transform(corpus)\n",
    "    sum_words = bag_of_words.sum(axis = 0)\n",
    "    words_freq = [(word, sum_words[0, idx]) for word, idx in vec.vocabulary_.items()]\n",
    "    words_freq = sorted(words_freq, key = lambda x: x[1], reverse = True)\n",
    "    return words_freq[:n]\n",
    "\n",
    "# aplicamos la función creada a la columna de datos y delimitamos por Top 20\n",
    "##Palabras_comunes = obtener_fecuencia(dataset['columna'], 20)\n",
    "##\n",
    "### creamos un nuevo dataframe con las palabras y su frecuencia\n",
    "##dataset = pd.DataFrame(palabras_comunes, columns = ['columna', 'conteo'])\n"
   ]
  },
  {
   "cell_type": "code",
   "execution_count": null,
   "metadata": {},
   "outputs": [],
   "source": [
    "from io import StringIO\n",
    "\n",
    "from pdfminer.converter import TextConverter\n",
    "from pdfminer.layout import LAParams\n",
    "from pdfminer.pdfdocument import PDFDocument\n",
    "from pdfminer.pdfinterp import PDFResourceManager, PDFPageInterpreter\n",
    "from pdfminer.pdfpage import PDFPage\n",
    "from pdfminer.pdfparser import PDFParser\n",
    "\n",
    "output_string = StringIO()\n",
    "with open(r\"C:\\Users\\WalterECalcagnoLucar\\OneDrive\\Bomberos\\SecGral\\QUINCENAL 1 al 15 ABRIL 2022 rv.pdf\", 'rb') as in_file:\n",
    "    parser = PDFParser(in_file)\n",
    "    doc = PDFDocument(parser)\n",
    "    rsrcmgr = PDFResourceManager()\n",
    "    device = TextConverter(rsrcmgr, output_string, laparams=LAParams())\n",
    "    interpreter = PDFPageInterpreter(rsrcmgr, device)\n",
    "    for page in PDFPage.create_pages(doc):\n",
    "        interpreter.process_page(page)\n",
    "\n",
    "print(output_string.getvalue())"
   ]
  },
  {
   "cell_type": "code",
   "execution_count": 3,
   "metadata": {},
   "outputs": [],
   "source": [
    "from pdfminer.pdfinterp import PDFResourceManager, PDFPageInterpreter\n",
    "from pdfminer.converter import PDFPageAggregator\n",
    "from pdfminer.layout import LAParams, LTTextBox\n",
    "\n",
    "def extract_paragraphs(pdf_file):\n",
    "    # Crea un manejador de recursos y un agregador de páginas\n",
    "    rsrcmgr = PDFResourceManager()\n",
    "    laparams = LAParams()\n",
    "    device = PDFPageAggregator(rsrcmgr, laparams=laparams)\n",
    "    interpreter = PDFPageInterpreter(rsrcmgr, device)\n",
    "    paragraphs = []\n",
    "\n",
    "    # Abre el archivo PDF y procesa cada página\n",
    "    with open(pdf_file, 'rb') as fp:\n",
    "        for page in PDFPage.get_pages(fp):\n",
    "            interpreter.process_page(page)\n",
    "            layout = device.get_result()\n",
    "\n",
    "            # Itera a través de los objetos de layout de la página\n",
    "            for lt_obj in layout:\n",
    "                if isinstance(lt_obj, LTTextBox):\n",
    "                    # Agrega el texto del párrafo a la lista\n",
    "                    paragraphs.append(lt_obj.get_text().strip())\n",
    "\n",
    "    # Cierra el archivo y el dispositivo de conversión\n",
    "    device.close()\n",
    "    return paragraphs\n"
   ]
  },
  {
   "cell_type": "code",
   "execution_count": null,
   "metadata": {},
   "outputs": [],
   "source": [
    "from sentiment_analysis_spanish import sentiment_analysis\n",
    "sentiment = sentiment_analysis.SentimentAnalysisSpanish()\n",
    "\n",
    "dataset['puntaje'] = dataset['Comentario'].apply(lambda x: sentiment.sentiment(x))"
   ]
  },
  {
   "cell_type": "code",
   "execution_count": 4,
   "metadata": {},
   "outputs": [
    {
     "name": "stdout",
     "output_type": "stream",
     "text": [
      "RELACIÓN QUINCENAL DE CORRESPONDENCIA \n",
      "INFORME DE CARTAS RECIBIDAS DE LAS COMPAÑÍAS  \n",
      "EN EL PERIODO 01 AL 15 DE ABRIL DE 2022\n",
      "PRIMERA COMPAÑÍA\n",
      "   CONSEJO  DE  DISCIPLINA,  reunido  en  sesión  con  fecha  1  de  abril  de  2022\n",
      "acordó lo siguiente:\n",
      "1.  Amonestar  por  escrito  con  anotación  en  su  Hoja  de  Servicio,  al \n",
      "Voluntario  Honorario  Sr.  FERNANDO  VALDÉS  ZAMORA,  por  tener  menos \n",
      "del 45% de asistencia durante el año 2021. Según el artículo 126° letra b) \n",
      "del Reglamento de Compañía.\n",
      "2.  Amonestar  por  escrito  con  anotación  en  su  Hoja  de  Servicio,  a  la \n",
      "Voluntaria  Honorario  Sra.  XIMENA  FUENTES  RÍOS,  por  tener  menos  del \n",
      "45% de asistencia durante el año 2021. Según el artículo 126° letra b) del \n",
      "Reglamento de Compañía.\n",
      "─  JUNTA  DE  OFICIALES  reunida  en  sesión  con  fecha  5  de  abril  de  2022,  acordó \n",
      "aceptar la renuncia del Voluntario Activo Sr. CRISTIAN DE LA CERDA PAREDES.\n",
      "SEGUNDA COMPAÑÍA\n",
      "1\n",
      "  CONSEJO  DE  DISCIPLINA  celebrado  el  día  31  de  marzo  de  2022,  ha  elegido \n",
      "Secretario  del  Consejo  al  Voluntario  Honorario:  Consejero  de  Disciplina  SERGIO \n",
      "ESCUDERO CASTRO.\n",
      "  CONSEJO DE DISCIPLINA, celebrado el 31 de marzo de 2022, acuerda:\n",
      "-  Amonestación  escrita  al  Miembro  Honorario  del  Cuerpo  ARTURO  TEJO \n",
      "JIMÉNEZ, Reg. Gral. N°1985, por trasgredir el Articulo 192 letra “a” del \n",
      "Reglamento de Compañía. Contravenir los acuerdos de la Compañía.\n",
      "-  Suspender 30 días al Voluntario Honorario ANDRÉS GANTES GARRIDO, \n",
      "Reg.  Gral.  N°  3623,  por  transgredir  Artículo  Articulo  192  letra  “a”  del \n",
      "Reglamento de Compañía. Contravenir los acuerdos de la Compañía.\n",
      "-  Suspender 30 días a la Voluntaria MARÍA DE LOS ÁNGELES CIFUENTES \n",
      "PENROZ,  Reg.  Gral.  N°  4955,  por  transgredir  Articulo  36  letra  “h”  y \n",
      "192  letra  “a”  del  Reglamento  de  Compañía.  Juzgado  en  ausencia,  en \n",
      "segunda  citación.  Art.  36  “h”  acuerdo  de  pago  de  cuotas  ordinarias  y \n",
      "extraordinarias de Compañía y Art. 192 “a” contravenir los acuerdos de \n",
      "la Compañía.\n",
      "-  Suspender  60  días  al  Voluntario  NICOLÁS  LAGOS  HOHMMAN,  Reg. \n",
      "Gral.  N°  4951  por  transgredir Articulo 36  letra  “h”  y  192  letra  “a”  del \n",
      "Reglamento de Compañía. Juzgado en rebeldía, en segunda citación.\n",
      "Art. 36 “h” acuerdo de pago de cuotas ordinarias y extraordinarias de \n",
      "Compañía y Art. 192 “a” contravenir los acuerdos de la Compañía.\n",
      "TERCERA COMPAÑÍA\n",
      "─  SESIÓN  EXTRAORDINARIA  DE  COMPAÑÍA,  realizada  el  día  11  de  abril  del \n",
      "año en curso, se acordó elegir como Teniente Tercero para el resto del período, \n",
      "al Voluntario FELIPE GUZMÁN MORA.\n",
      "CUARTA COMPAÑÍA\n",
      "─  SESIÓN  DE  COMPAÑÍA  del  día  04  de  abril  de  2022,  se  aceptó  la  solicitud  de \n",
      "incorporación a la Compañía, presentada por el señor MIGUEL ADOLFO BARRAZA \n",
      "MUÑOZ, Registro compañía N°498.\n",
      "OCTAVA COMPAÑÍA\n",
      "─  JUNTA  DE  OFICIALES  de  fecha  1  de  abril  de  2022,  toma  conocimiento  de  la \n",
      "renuncia  a  la  Institución  de  la  ex  Voluntaria  señorita  SCARTET  MORALES \n",
      "VILLEGAS, Registro General Nº 5119.\n",
      "2\n",
      "DÉCIMA COMPAÑÍA\n",
      "─  SESIÓN  DE  COMPAÑÍA  de  fecha  18  de  marzo  del  presente  año,  se  acordó \n",
      "aceptar  la  renuncia  al  cargo  de  Maquinista  del  Voluntario  Activo  Sr.  ANDRE \n",
      "VARGAS PEÑA, Reg. 4772.\n",
      "─  SESIÓN  EXTRAORDINARIA  DE  COMPAÑÍA  efectuada  el  día  10  de  abril  del\n",
      "presente, por vacancia en el cargo de Maquinista ACUERDA: \n",
      "Elegir Maquinista por lo que resta del periodo 2022-2023, al voluntario Honorario \n",
      "Sr. DANIEL RIQUELME GÓMEZ, Registro General 3641.\n",
      "UNDÉCIMA COMPAÑÍA\n",
      "─  CONSEJO DE DISCIPLINA constituido el día viernes 08 de abril 2022, acuerda:  \n",
      "1.-  Amonestar  por  escrito  en  su  hoja  de  Servicio,  al  Voluntario  Activo,  Sr.  JOEL \n",
      "ÁLVAREZ  ARTEAGA,  Reg.  Gral.  N°5103,  por  infringir  el  Artículo  N°140,  N°2,  del \n",
      "Reglamento de Compañía; Inasistencia a tres actos de obligación consecutivos en \n",
      "días distintos.\n",
      "2.-  Amonestar  Verbalmente,  al  Voluntario  Activo,  Sr.  ANDRÉS  GONZÁLEZ \n",
      "ARÁNGUIZ, Reg. Gral. N°5170, por infringir el Articulo 140, Nº2, del Reglamento \n",
      "de  Compañía;  Inasistencia  a  tres  actos  de  obligación  consecutivos  en  días \n",
      "distintos.\n",
      "Para información de las Compañías.\n",
      "ROBERTO SEPÚLVEDA TORO \n",
      "Secretario General\n",
      "3\n"
     ]
    }
   ],
   "source": [
    "\n",
    "# Ejemplo de uso\n",
    "pdf_file = r\"C:\\Users\\WalterECalcagnoLucar\\OneDrive\\Bomberos\\SecGral\\QUINCENAL 1 al 15 ABRIL 2022 rv.pdf\"\n",
    "paragraphs = extract_paragraphs(pdf_file)\n",
    "for paragraph in paragraphs:\n",
    "    print(paragraph)\n"
   ]
  }
 ],
 "metadata": {
  "kernelspec": {
   "display_name": "Python 3",
   "language": "python",
   "name": "python3"
  },
  "language_info": {
   "codemirror_mode": {
    "name": "ipython",
    "version": 3
   },
   "file_extension": ".py",
   "mimetype": "text/x-python",
   "name": "python",
   "nbconvert_exporter": "python",
   "pygments_lexer": "ipython3",
   "version": "3.9.2"
  },
  "orig_nbformat": 4,
  "vscode": {
   "interpreter": {
    "hash": "48a79a1991227e7d864d84901f502737ff0a8456c8cf67511fa99672549235e9"
   }
  }
 },
 "nbformat": 4,
 "nbformat_minor": 2
}
