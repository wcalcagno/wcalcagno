{
 "cells": [
  {
   "cell_type": "code",
   "execution_count": null,
   "metadata": {},
   "outputs": [],
   "source": [
    "import sys\n",
    "import operator\n",
    "import requests\n",
    "import json\n",
    "import twitter\n",
    "import csv"
   ]
  },
  {
   "cell_type": "code",
   "execution_count": null,
   "metadata": {},
   "outputs": [],
   "source": [
    "pip install -U scikit-learn"
   ]
  },
  {
   "cell_type": "code",
   "execution_count": null,
   "metadata": {},
   "outputs": [],
   "source": [
    "from sentiment_analysis_spanish import sentiment_analysis"
   ]
  },
  {
   "cell_type": "code",
   "execution_count": null,
   "metadata": {},
   "outputs": [],
   "source": [
    "twitter_consumer_key = 'QnUwWWdxTmlpSFBzTDBnX21DQUs6MTpjaQ'\n",
    "twitter_consumer_secret = 'd9Fgp4t9RYdzQeIV0AxULswRVSa0i8eyp0IEUD_rnkoAuTQB6F'\n",
    "twitter_access_token = '[your access token]'\n",
    "twitter_access_secret = '[your access secret]'"
   ]
  },
  {
   "cell_type": "code",
   "execution_count": null,
   "metadata": {},
   "outputs": [],
   "source": [
    "twitter_api = twitter.Api(consumer_key=twitter_consumer_key, consumer_secret=twitter_consumer_secret, access_token_key=twitter_access_token, access_token_secret=twitter_access_secret)\n"
   ]
  },
  {
   "cell_type": "code",
   "execution_count": null,
   "metadata": {},
   "outputs": [],
   "source": [
    "handle = 'PyCon2022'"
   ]
  },
  {
   "cell_type": "code",
   "execution_count": null,
   "metadata": {},
   "outputs": [],
   "source": [
    "statuses = twitter_api.GetUserTimeline(screen_name=handle, count=200, include_rts=False)\n",
    "for status in statuses:\n",
    "print(status.text)"
   ]
  },
  {
   "cell_type": "code",
   "execution_count": null,
   "metadata": {},
   "outputs": [],
   "source": [
    "hashtags_to_track = '[Some hashtag]'\n",
    "stream = twitter_api.GetStreamFilter (track = hashtags_to_track)\n",
    "for line in stream:\n",
    "    if 'in_reply_to_status_id' in line:\n",
    "        tweet = twitter.Status.NewFromJsonDict(line)\n",
    "        user = tweet.user.screen_name\n",
    "        tweet_text = tweet.text\n",
    "        print('User: ' + user[0] + '\\t Tweet: ' + tweet_text + '\\n')"
   ]
  },
  {
   "cell_type": "code",
   "execution_count": null,
   "metadata": {},
   "outputs": [],
   "source": [
    "with open('tweets.csv', 'w+') as csv_file:\n",
    "    csv_writer = csv.writer(csv_file)\n",
    "    for line in stream:\n",
    "        if 'in_reply_to_status_id' in line:\n",
    "            tweet = twitter.Status.NewFromJsonDict(line)\n",
    "            print(tweet.id)\n",
    "            row = [tweet.id, tweet.user.screen_name, tweet.text]\n",
    "            csv_writer.writerow(row)"
   ]
  }
 ],
 "metadata": {
  "kernelspec": {
   "display_name": "Python 3.9.2 64-bit",
   "language": "python",
   "name": "python3"
  },
  "language_info": {
   "codemirror_mode": {
    "name": "ipython",
    "version": 3
   },
   "file_extension": ".py",
   "mimetype": "text/x-python",
   "name": "python",
   "nbconvert_exporter": "python",
   "pygments_lexer": "ipython3",
   "version": "3.9.2"
  },
  "orig_nbformat": 4,
  "vscode": {
   "interpreter": {
    "hash": "48a79a1991227e7d864d84901f502737ff0a8456c8cf67511fa99672549235e9"
   }
  }
 },
 "nbformat": 4,
 "nbformat_minor": 2
}
